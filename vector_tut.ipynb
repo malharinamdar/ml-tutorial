{
  "nbformat": 4,
  "nbformat_minor": 0,
  "metadata": {
    "colab": {
      "provenance": [],
      "authorship_tag": "ABX9TyNXFaZe/Y7nH3xrVIeUmE9V",
      "include_colab_link": true
    },
    "kernelspec": {
      "name": "python3",
      "display_name": "Python 3"
    },
    "language_info": {
      "name": "python"
    }
  },
  "cells": [
    {
      "cell_type": "markdown",
      "metadata": {
        "id": "view-in-github",
        "colab_type": "text"
      },
      "source": [
        "<a href=\"https://colab.research.google.com/github/malharinamdar/ml-tutorial/blob/main/vector_tut.ipynb\" target=\"_parent\"><img src=\"https://colab.research.google.com/assets/colab-badge.svg\" alt=\"Open In Colab\"/></a>"
      ]
    },
    {
      "cell_type": "code",
      "execution_count": 2,
      "metadata": {
        "colab": {
          "base_uri": "https://localhost:8080/"
        },
        "id": "gFBs_vocS7m0",
        "outputId": "1cd08901-3ae7-4c21-8727-eadfa437b2be"
      },
      "outputs": [
        {
          "output_type": "stream",
          "name": "stdout",
          "text": [
            "[1 2 3 4]\n"
          ]
        }
      ],
      "source": [
        "import numpy as np\n",
        "\n",
        "a=np.array([1,2,3,4])\n",
        "print(a)"
      ]
    },
    {
      "cell_type": "code",
      "source": [
        "import time\n",
        "a=np.random.rand(1000000) #creates an array of size 1 million having values bw 0 &1\n",
        "b=np.random.rand(1000000)\n",
        "\n",
        "tic=time.time()\n",
        "c=np.dot(a,b)\n",
        "print(c)\n",
        "toc=time.time()\n",
        "\n",
        "print(\"vectorised time: \"+ str(1000*(toc-tic))+ \"ms\")\n",
        "\n",
        "#non vectorized time\n",
        "d=0\n",
        "tic=time.time()\n",
        "for i in range(1000000):\n",
        "  c+=a[i]*b[i]\n",
        "  toc=time.time()\n",
        "print(\"non vectorised time: \"+ str(1000*(toc-tic))+ \"ms\")"
      ],
      "metadata": {
        "colab": {
          "base_uri": "https://localhost:8080/"
        },
        "id": "BokYi6HzWGIF",
        "outputId": "b986431a-9837-4fc7-c86a-d7f162509b4e"
      },
      "execution_count": 11,
      "outputs": [
        {
          "output_type": "stream",
          "name": "stdout",
          "text": [
            "249704.4273002342\n",
            "vectorised time: 3.933429718017578ms\n",
            "non vectorised time: 653.4156799316406ms\n"
          ]
        }
      ]
    },
    {
      "cell_type": "code",
      "source": [
        "a=np.random.rand(1000000)\n",
        "b=np.random.rand(1000000)\n",
        "print(a)"
      ],
      "metadata": {
        "colab": {
          "base_uri": "https://localhost:8080/"
        },
        "id": "6g6tnz5wkAfM",
        "outputId": "e3508b36-4d76-4de2-a861-f293a54db7d6"
      },
      "execution_count": 9,
      "outputs": [
        {
          "output_type": "stream",
          "name": "stdout",
          "text": [
            "[0.76577421 0.09269977 0.25167559 ... 0.69968549 0.65019568 0.1768826 ]\n"
          ]
        }
      ]
    },
    {
      "cell_type": "code",
      "source": [],
      "metadata": {
        "id": "QU9M2YXZl8Du"
      },
      "execution_count": null,
      "outputs": []
    }
  ]
}