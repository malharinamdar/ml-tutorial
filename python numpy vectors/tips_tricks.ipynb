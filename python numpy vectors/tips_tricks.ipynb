{
  "nbformat": 4,
  "nbformat_minor": 0,
  "metadata": {
    "colab": {
      "provenance": []
    },
    "kernelspec": {
      "name": "python3",
      "display_name": "Python 3"
    },
    "language_info": {
      "name": "python"
    }
  },
  "cells": [
    {
      "cell_type": "code",
      "execution_count": 1,
      "metadata": {
        "colab": {
          "base_uri": "https://localhost:8080/"
        },
        "id": "v3tcKmGGfRmY",
        "outputId": "9c93f479-964b-47c1-8884-7b4c0c3a4927"
      },
      "outputs": [
        {
          "output_type": "stream",
          "name": "stdout",
          "text": [
            "[0.07981077 0.98217746 0.34876118 0.48013791 0.77651034]\n"
          ]
        }
      ],
      "source": [
        "import numpy as np\n",
        "\n",
        "#ranked vector which causes issues\n",
        "a=np.random.rand(5)\n",
        "print(a)\n",
        "\n",
        "#diff bw rand and randn is the value each of them generates from the distribution.\n",
        "#rand generates random values and randn generates from bw (0,1)"
      ]
    },
    {
      "cell_type": "code",
      "source": [
        "print(a.shape)   #issue is that such ranked matrices have no structure and scope, they are random"
      ],
      "metadata": {
        "colab": {
          "base_uri": "https://localhost:8080/"
        },
        "id": "CHjeiGo0jcSD",
        "outputId": "eedc8a5c-a410-47dc-84dc-26b832619737"
      },
      "execution_count": 3,
      "outputs": [
        {
          "output_type": "stream",
          "name": "stdout",
          "text": [
            "(5,)\n"
          ]
        }
      ]
    },
    {
      "cell_type": "code",
      "source": [
        "a=a.reshape(5,1) #we can reshape the array matrix into a column or row vector which is better than ranked matrices\n",
        "print(a.shape)"
      ],
      "metadata": {
        "colab": {
          "base_uri": "https://localhost:8080/"
        },
        "id": "_iCq4Nk8kTxE",
        "outputId": "a3ade334-4234-42b4-83ab-a90d5bbac8f3"
      },
      "execution_count": 4,
      "outputs": [
        {
          "output_type": "stream",
          "name": "stdout",
          "text": [
            "(5, 1)\n"
          ]
        }
      ]
    },
    {
      "cell_type": "code",
      "source": [
        "print(a)"
      ],
      "metadata": {
        "colab": {
          "base_uri": "https://localhost:8080/"
        },
        "id": "dJHwsJTDkT28",
        "outputId": "7526ec41-dc63-4f96-c67e-2c8f8325ec8d"
      },
      "execution_count": 5,
      "outputs": [
        {
          "output_type": "stream",
          "name": "stdout",
          "text": [
            "[[0.07981077]\n",
            " [0.98217746]\n",
            " [0.34876118]\n",
            " [0.48013791]\n",
            " [0.77651034]]\n"
          ]
        }
      ]
    },
    {
      "cell_type": "code",
      "source": [
        "b=np.random.randn(5,1)\n",
        "print(b)"
      ],
      "metadata": {
        "colab": {
          "base_uri": "https://localhost:8080/"
        },
        "id": "NcKSADzzsS_K",
        "outputId": "2e2a21db-c126-467d-8b00-29f3ecb0f12c"
      },
      "execution_count": 6,
      "outputs": [
        {
          "output_type": "stream",
          "name": "stdout",
          "text": [
            "[[ 0.23909372]\n",
            " [-0.36094841]\n",
            " [ 2.21015027]\n",
            " [-0.78503802]\n",
            " [ 0.44618673]]\n"
          ]
        }
      ]
    },
    {
      "cell_type": "code",
      "source": [
        "b=b.reshape(1,5)\n",
        "print(b)"
      ],
      "metadata": {
        "colab": {
          "base_uri": "https://localhost:8080/"
        },
        "id": "erZ3SdkpsbfU",
        "outputId": "f2a8e0c4-8c99-4855-ee70-bca653973430"
      },
      "execution_count": 7,
      "outputs": [
        {
          "output_type": "stream",
          "name": "stdout",
          "text": [
            "[[ 0.23909372 -0.36094841  2.21015027 -0.78503802  0.44618673]]\n"
          ]
        }
      ]
    },
    {
      "cell_type": "code",
      "source": [
        "print(b.T) #TRANSPOSE"
      ],
      "metadata": {
        "colab": {
          "base_uri": "https://localhost:8080/"
        },
        "id": "FNMZYf6esnT2",
        "outputId": "eaeb56c2-d869-4214-8869-3a991ee58870"
      },
      "execution_count": 9,
      "outputs": [
        {
          "output_type": "stream",
          "name": "stdout",
          "text": [
            "[[ 0.23909372]\n",
            " [-0.36094841]\n",
            " [ 2.21015027]\n",
            " [-0.78503802]\n",
            " [ 0.44618673]]\n"
          ]
        }
      ]
    },
    {
      "cell_type": "code",
      "source": [
        "print(np.dot(b,b.T))"
      ],
      "metadata": {
        "colab": {
          "base_uri": "https://localhost:8080/"
        },
        "id": "atKAyJ2lshQ8",
        "outputId": "cf0547bb-6de3-4ed4-ff0f-73e7a2fc7888"
      },
      "execution_count": 8,
      "outputs": [
        {
          "output_type": "stream",
          "name": "stdout",
          "text": [
            "[[5.88758106]]\n"
          ]
        }
      ]
    },
    {
      "cell_type": "code",
      "source": [
        "assert(b.shape == (1,5))"
      ],
      "metadata": {
        "id": "n7PATB7is2kG"
      },
      "execution_count": 14,
      "outputs": []
    }
  ]
}