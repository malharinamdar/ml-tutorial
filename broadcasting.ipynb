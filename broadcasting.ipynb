{
  "nbformat": 4,
  "nbformat_minor": 0,
  "metadata": {
    "colab": {
      "provenance": [],
      "authorship_tag": "ABX9TyOrb8qDST8Km60UvCUs2Pag",
      "include_colab_link": true
    },
    "kernelspec": {
      "name": "python3",
      "display_name": "Python 3"
    },
    "language_info": {
      "name": "python"
    }
  },
  "cells": [
    {
      "cell_type": "markdown",
      "metadata": {
        "id": "view-in-github",
        "colab_type": "text"
      },
      "source": [
        "<a href=\"https://colab.research.google.com/github/malharinamdar/ml-tutorial/blob/main/broadcasting.ipynb\" target=\"_parent\"><img src=\"https://colab.research.google.com/assets/colab-badge.svg\" alt=\"Open In Colab\"/></a>"
      ]
    },
    {
      "cell_type": "markdown",
      "source": [
        "it is honestly very simple to perform mathematical calc in python for ml tasks"
      ],
      "metadata": {
        "id": "IR6Uv829ayif"
      }
    },
    {
      "cell_type": "code",
      "execution_count": 6,
      "metadata": {
        "colab": {
          "base_uri": "https://localhost:8080/"
        },
        "id": "k2E95A8FXnG2",
        "outputId": "650ca2d8-0f78-4cac-f545-86591b58496d"
      },
      "outputs": [
        {
          "output_type": "stream",
          "name": "stdout",
          "text": [
            "[[ 56.    0.    4.4  68. ]\n",
            " [  1.2 104.   52.    8. ]\n",
            " [  1.8 135.   99.    0.9]]\n"
          ]
        }
      ],
      "source": [
        "import numpy as np\n",
        "\n",
        "A=np.array([[56.0,0.0,4.4,68.0],      #we know this is 3 x 4 matrix where rows are carbs protein fat calories and columns are the 4 foods of 100g each\n",
        "            [1.2,104.0,52.0,8.0],\n",
        "            [1.8,135.0,99.0,0.9]])\n",
        "print(A)"
      ]
    },
    {
      "cell_type": "code",
      "source": [
        "#to sum the values of each vertical column we use following\n",
        "\n",
        "\n",
        "cal=A.sum(axis=0)  #here axis=0 means vertically adding columnwise(vertically) axis=1 means adding horizontally rowwise\n",
        "print(cal)"
      ],
      "metadata": {
        "colab": {
          "base_uri": "https://localhost:8080/"
        },
        "id": "oPR3FC85Ztfr",
        "outputId": "56df77dc-57de-4f4e-c5b9-1aebcadc0c81"
      },
      "execution_count": 8,
      "outputs": [
        {
          "output_type": "stream",
          "name": "stdout",
          "text": [
            "[ 59.  239.  155.4  76.9]\n"
          ]
        }
      ]
    },
    {
      "cell_type": "code",
      "source": [
        "#now we want to calc the percentage of each nutrient' calories wrt to total calories\n",
        "\n",
        "percentage=A/cal*100    # here we know the dimensions of matrix cal is (1,4) if we didnt know then we use cal.reshape(1,4) command\n",
        "print(percentage)"
      ],
      "metadata": {
        "colab": {
          "base_uri": "https://localhost:8080/"
        },
        "id": "7p8GzbjwaD-E",
        "outputId": "7dcd2938-2688-4390-ea53-91e8e761cdf0"
      },
      "execution_count": 10,
      "outputs": [
        {
          "output_type": "stream",
          "name": "stdout",
          "text": [
            "[[94.91525424  0.          2.83140283 88.42652796]\n",
            " [ 2.03389831 43.51464435 33.46203346 10.40312094]\n",
            " [ 3.05084746 56.48535565 63.70656371  1.17035111]]\n"
          ]
        }
      ]
    }
  ]
}